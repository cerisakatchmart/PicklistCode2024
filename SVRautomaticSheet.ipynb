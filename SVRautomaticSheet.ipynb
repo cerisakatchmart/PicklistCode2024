{
  "nbformat": 4,
  "nbformat_minor": 0,
  "metadata": {
    "colab": {
      "provenance": [],
      "authorship_tag": "ABX9TyPa50FLGIhkqe2T1ZVJe3IX",
      "include_colab_link": true
    },
    "kernelspec": {
      "name": "python3",
      "display_name": "Python 3"
    },
    "language_info": {
      "name": "python"
    }
  },
  "cells": [
    {
      "cell_type": "markdown",
      "metadata": {
        "id": "view-in-github",
        "colab_type": "text"
      },
      "source": [
        "<a href=\"https://colab.research.google.com/github/cerisakatchmart/PicklistCode2024/blob/main/SVRautomaticSheet.ipynb\" target=\"_parent\"><img src=\"https://colab.research.google.com/assets/colab-badge.svg\" alt=\"Open In Colab\"/></a>"
      ]
    },
    {
      "cell_type": "code",
      "source": [
        "# imports libs needed to access data from google sheets\n",
        "import google.colab as colab\n",
        "import gspread\n",
        "import google.auth as gauth\n",
        "\n",
        "# sets up authentification\n",
        "colab.auth.authenticate_user()\n",
        "\n",
        "creds, _ = gauth.default()\n",
        "\n",
        "gc = gspread.authorize(creds)"
      ],
      "metadata": {
        "id": "yIXHpkGavXXo"
      },
      "execution_count": 1,
      "outputs": []
    },
    {
      "cell_type": "code",
      "source": [
        "sheet_name = \"Crescendo SVR 2024\"\n",
        "temp_pg = \"temp\"\n",
        "\n",
        "sheet = gc.open(sheet_name)\n",
        "temp = sheet.worksheet(temp_pg)"
      ],
      "metadata": {
        "id": "pU55Yc4_vZzS"
      },
      "execution_count": 2,
      "outputs": []
    },
    {
      "cell_type": "code",
      "execution_count": 4,
      "metadata": {
        "id": "qr6CS4-Ku_eD"
      },
      "outputs": [],
      "source": [
        "# use to create pages for teams\n",
        "# 42 teams @ svr 2024\n",
        "team_list = [100,192,253,581,604,668,670,841,972,987,1351,1678,1868,1967,2035,2073,2367,2473,2813,3008,3189,3256,3309,3859,4990,5026,5027,5104,6238,6348,6884,6918,7413,7419,8048,8404,8546,9114,9125,9470,9504]\n",
        "\n",
        "#goes through list of teams\n",
        "for team in team_list:\n",
        "  try:\n",
        "    # finds existing page\n",
        "    dest_page = sheet.worksheet(str(team))\n",
        "    # deletes existing page\n",
        "    sheet.del_worksheet(dest_page)\n",
        "  except:\n",
        "    pass\n",
        "  # creates new page\n",
        "  dest_page = sheet.duplicate_sheet(temp.id,new_sheet_name=str(team),insert_sheet_index=99999)\n",
        "  filt_form = \"=FILTER(SVR!A2:AL,SVR!E2:E = {})\".format(team)\n",
        "  dest_page.update('A3',filt_form,value_input_option='USER_ENTERED')\n"
      ]
    }
  ]
}